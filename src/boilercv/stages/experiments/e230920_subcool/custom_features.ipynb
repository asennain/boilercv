{
 "cells": [
  {
   "attachments": {},
   "cell_type": "markdown",
   "metadata": {},
   "source": [
    "# Custom features\n",
    "\n",
    "Obtain features suitable for linking directly from contours.\n"
   ]
  },
  {
   "cell_type": "code",
   "execution_count": null,
   "metadata": {},
   "outputs": [],
   "source": [
    "import colorcet  # noqa: F401  # Registers \"cet_\" prefixed colormaps in plt.colormaps\n",
    "import janitor  # noqa: F401  # Registers methods on dataframes\n",
    "import xarray as xr\n",
    "from geopandas import GeoDataFrame, points_from_xy\n",
    "from pandas import DataFrame, NamedAgg\n",
    "from shapely import LinearRing\n",
    "from src.boilercv.docs import HIDE\n",
    "\n",
    "from boilercv.data import VIDEO, apply_to_img_da\n",
    "from boilercv.data.sets import get_contours_df, get_dataset\n",
    "from boilercv.docs import init, nowarn\n",
    "from boilercv.images import scale_bool\n",
    "from boilercv.images.cv import Op, Transform, transform\n",
    "from boilercv.stages.experiments.e230920_subcool import GBC\n",
    "\n",
    "init()\n",
    "\n",
    "\n",
    "with nowarn(capture=True):\n",
    "    import trackpy as tp\n",
    "\n",
    "\n",
    "tp.quiet()"
   ]
  },
  {
   "cell_type": "markdown",
   "metadata": {},
   "source": [
    "## Parameters\n",
    "\n",
    "Given the "
   ]
  },
  {
   "cell_type": "code",
   "execution_count": null,
   "metadata": {
    "tags": [
     "parameters"
    ]
   },
   "outputs": [],
   "source": [
    "TIME = \"2023-09-20T17:14:18\"\n",
    "\"\"\"Trial.\"\"\"\n",
    "\n",
    "FRAMES = [None, 1]\n",
    "\"\"\"Frames.\n",
    "\n",
    "A list that will become a slice. Not a tuple because `ploomber_engine` can't inject\n",
    "tuples.\n",
    "\"\"\"\n",
    "\n",
    "HIDE"
   ]
  },
  {
   "cell_type": "code",
   "execution_count": null,
   "metadata": {},
   "outputs": [],
   "source": [
    "PATH_TIME = TIME.replace(\":\", \"-\")\n",
    "source_ds = get_dataset(PATH_TIME, stage=\"filled\")\n",
    "contours_df = get_contours_df(PATH_TIME)"
   ]
  },
  {
   "cell_type": "markdown",
   "metadata": {},
   "source": [
    "## Find centers from filled contours using Trackpy\n",
    "\n",
    "Synthesize bubble images by producing binary images with filled contours. Use Trackpy to find bubble centers."
   ]
  },
  {
   "cell_type": "code",
   "execution_count": null,
   "metadata": {},
   "outputs": [],
   "source": [
    "video = apply_to_img_da(\n",
    "    lambda img: transform(img, Transform(Op.open, 12)),\n",
    "    scale_bool(source_ds[\"video\"]),\n",
    "    vectorize=True,\n",
    ")\n",
    "GUESS_DIAMETER = 51  # (px) Guess diameter\n",
    "objects = tp.batch(\n",
    "    frames=video.sel(frame=slice(*FRAMES)).values,\n",
    "    diameter=GUESS_DIAMETER,\n",
    "    characterize=False,\n",
    ").drop(columns=\"mass\")\n",
    "objects"
   ]
  },
  {
   "cell_type": "markdown",
   "metadata": {},
   "source": [
    "## Find centers from contours using shapely\n",
    "\n",
    "The prior approach throws out contour data, instead operating on filled contours. Instead, try using shapely to find centroids directly from contour data."
   ]
  },
  {
   "cell_type": "markdown",
   "metadata": {},
   "source": [
    "### Prepare to find objects\n",
    "\n",
    "Prepare a dataframe with columns in a certain order, assign contour data to it and reset the hiearchical `frame` and `contour` indices to columns.\n",
    "\n",
    "> **Note**\n",
    "> `groupby` operations behave differently depending on whether there is a default index, a meaningful index, or a hierarchical index, so resetting the index. Additionally, `GBC` sets default values for `groupby`'s keyword arguments, enabling `observed` and `sort`, and disabling `as_index`, `dropna`, and `group_keys`.\n"
   ]
  },
  {
   "cell_type": "code",
   "execution_count": null,
   "metadata": {},
   "outputs": [],
   "source": [
    "contours = (\n",
    "    DataFrame(columns=[\"xpx\", \"ypx\"])\n",
    "    .assign(**contours_df)\n",
    "    .rename(axis=\"columns\", mapper=dict(xpx=\"x\", ypx=\"y\"))\n",
    "    .reset_index()\n",
    "    .assign(\n",
    "        count=lambda df: df.groupby([\"frame\", \"contour\"], **GBC).x.transform(\"count\")\n",
    "    )\n",
    "    .query(\"count > 3\")\n",
    "    .drop(columns=\"count\")\n",
    "    .assign(geometry=lambda df: points_from_xy(df.x, df.y))\n",
    "    .groupby([\"frame\", \"contour\"], **GBC)\n",
    "    .agg(\n",
    "        x_mean=NamedAgg(column=\"x\", aggfunc=\"mean\"),\n",
    "        y_mean=NamedAgg(column=\"y\", aggfunc=\"mean\"),\n",
    "        centroid=NamedAgg(\n",
    "            column=\"geometry\", aggfunc=lambda df: LinearRing(df).centroid\n",
    "        ),\n",
    "    )\n",
    ")\n",
    "contours"
   ]
  },
  {
   "cell_type": "code",
   "execution_count": null,
   "metadata": {},
   "outputs": [],
   "source": [
    "my_objects = (\n",
    "    GeoDataFrame(contours)\n",
    "    .assign(x=lambda df: df.centroid.x, y=lambda df: df.centroid.y)\n",
    "    .loc[:, [\"x\", \"y\", \"frame\"]]\n",
    ")\n",
    "my_objects"
   ]
  },
  {
   "cell_type": "code",
   "execution_count": null,
   "metadata": {},
   "outputs": [],
   "source": [
    "contours = DataFrame(columns=[\"xpx\", \"ypx\"]).assign(**contours_df)\n",
    "\n",
    "ds = xr.zeros_like(source_ds, dtype=source_ds[VIDEO].dtype)\n",
    "# video = ds[VIDEO]\n",
    "# if not contours.empty:\n",
    "#     for frame_num, frame in enumerate(video):\n",
    "#         contours: list[ArrInt] = list(  # type: ignore  # pyright 1.1.333\n",
    "#             contours.loc[frame_num, :]\n",
    "#             .groupby(\"contour\")\n",
    "#             .apply(lambda grp: grp.values)  # type: ignore  # pyright 1.1.333\n",
    "#         )\n",
    "#         video[frame_num, :, :] = draw_contours(\n",
    "#             scale_bool(frame.values), contours\n",
    "#         )\n",
    "# ds[VIDEO] = pack(video)\n",
    "# ds = ds.drop_vars(ROI)"
   ]
  },
  {
   "cell_type": "code",
   "execution_count": null,
   "metadata": {},
   "outputs": [],
   "source": [
    "my_objects"
   ]
  }
 ],
 "metadata": {
  "kernelspec": {
   "display_name": "Python 3 (ipykernel)",
   "language": "python",
   "name": "python3"
  },
  "language_info": {
   "codemirror_mode": {
    "name": "ipython",
    "version": 3
   },
   "file_extension": ".py",
   "mimetype": "text/x-python",
   "name": "python",
   "nbconvert_exporter": "python",
   "pygments_lexer": "ipython3"
  },
  "papermill": {
   "parameters": {
    "product": "C:/Users/Blake/Code/mine/boilercv/data/docs/study_the_fit_of_bubble_collapse_correlations/prove_the_concept/23-07-13T14_full_video.ipynb"
   }
  }
 },
 "nbformat": 4,
 "nbformat_minor": 2
}
