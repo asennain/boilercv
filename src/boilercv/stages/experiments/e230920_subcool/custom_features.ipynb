{
 "cells": [
  {
   "attachments": {},
   "cell_type": "markdown",
   "metadata": {},
   "source": [
    "# Custom features\n",
    "\n",
    "Obtain features suitable for linking directly from contours.\n"
   ]
  },
  {
   "cell_type": "code",
   "execution_count": null,
   "metadata": {},
   "outputs": [],
   "source": [
    "import colorcet  # noqa: F401  # Registers \"cet_\" prefixed colormaps in plt.colormaps\n",
    "import janitor  # noqa: F401  # Registers methods on dataframes\n",
    "from IPython.display import display\n",
    "from numpy import zeros\n",
    "from pandas import DataFrame\n",
    "\n",
    "from boilercv.data import apply_to_img_da\n",
    "from boilercv.data.sets import get_dataset\n",
    "from boilercv.docs import init, nowarn\n",
    "from boilercv.images import scale_bool\n",
    "from boilercv.images.cv import Op, Transform, transform\n",
    "\n",
    "init()\n",
    "\n",
    "\n",
    "with nowarn(capture=True):\n",
    "    import trackpy as tp\n",
    "\n",
    "\n",
    "tp.quiet()"
   ]
  },
  {
   "cell_type": "code",
   "execution_count": null,
   "metadata": {},
   "outputs": [],
   "source": [
    "OBJECTS = DataFrame(columns=[\"y\", \"x\", \"frame\"], data=zeros([1, 3]))\n",
    "\n",
    "\n",
    "def batch(objects: DataFrame = OBJECTS) -> DataFrame:\n",
    "    return objects"
   ]
  },
  {
   "cell_type": "code",
   "execution_count": null,
   "metadata": {
    "tags": [
     "parameters"
    ]
   },
   "outputs": [],
   "source": [
    "TIME = \"2023-09-20T17:14:18\"\n",
    "FRAMES = [None, 0]"
   ]
  },
  {
   "cell_type": "code",
   "execution_count": null,
   "metadata": {},
   "outputs": [],
   "source": [
    "FRAMES = slice(*FRAMES)\n",
    "PATH_TIME = TIME.replace(\":\", \"-\")\n",
    "video = apply_to_img_da(\n",
    "    lambda img: transform(img, Transform(Op.open, 12)),\n",
    "    scale_bool(get_dataset(PATH_TIME, stage=\"filled\")[\"video\"]),\n",
    "    vectorize=True,\n",
    ")"
   ]
  },
  {
   "cell_type": "code",
   "execution_count": null,
   "metadata": {},
   "outputs": [],
   "source": [
    "GUESS_DIAMETER = 51  # (px) Guess diameter\n",
    "objects = tp.batch(\n",
    "    frames=video.sel(frame=FRAMES).values, diameter=GUESS_DIAMETER, characterize=False\n",
    ").drop(columns=\"mass\")\n",
    "my_objects = batch()\n",
    "\n",
    "display(objects, my_objects)"
   ]
  }
 ],
 "metadata": {
  "kernelspec": {
   "display_name": "Python 3 (ipykernel)",
   "language": "python",
   "name": "python3"
  },
  "language_info": {
   "codemirror_mode": {
    "name": "ipython",
    "version": 3
   },
   "file_extension": ".py",
   "mimetype": "text/x-python",
   "name": "python",
   "nbconvert_exporter": "python",
   "pygments_lexer": "ipython3"
  },
  "papermill": {
   "parameters": {
    "product": "C:/Users/Blake/Code/mine/boilercv/data/docs/study_the_fit_of_bubble_collapse_correlations/prove_the_concept/23-07-13T14_full_video.ipynb"
   }
  }
 },
 "nbformat": 4,
 "nbformat_minor": 2
}
