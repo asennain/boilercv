{
 "cells": [
  {
   "cell_type": "markdown",
   "metadata": {},
   "source": [
    "# Find centers"
   ]
  },
  {
   "cell_type": "code",
   "execution_count": null,
   "metadata": {},
   "outputs": [],
   "source": [
    "import pandas as pd\n",
    "from geopandas import GeoDataFrame, points_from_xy\n",
    "from numpy import diff\n",
    "from pandas import DataFrame, NamedAgg\n",
    "from shapely import LinearRing\n",
    "\n",
    "from boilercv.data.sets import get_contours_df, get_dataset\n",
    "from boilercv.docs import init\n",
    "from boilercv.models.params import PARAMS\n",
    "from boilercv.stages.experiments.e230920_subcool import EXP, GBC, THERMAL_DATA\n",
    "\n",
    "init()"
   ]
  },
  {
   "cell_type": "code",
   "execution_count": null,
   "metadata": {
    "tags": [
     "parameters"
    ]
   },
   "outputs": [],
   "source": [
    "TIME = \"2023-09-20T17:14:18\""
   ]
  },
  {
   "cell_type": "code",
   "execution_count": null,
   "metadata": {},
   "outputs": [],
   "source": [
    "PATH_TIME = TIME.replace(\":\", \"-\")\n",
    "PATH = PARAMS.paths.experiments / f\"{EXP}/{PATH_TIME}.h5\"\n",
    "\n",
    "video = get_dataset(PATH_TIME, stage=\"filled\")[\"video\"]\n",
    "\n",
    "# Conversion factors\n",
    "PX_PER_M = 20997.3753  # (px/m)\n",
    "PX_PER_MM = PX_PER_M / 1000  # (px/mm)\n",
    "\n",
    "# Informed by the actual water temperature data\n",
    "DATA = pd.read_hdf(THERMAL_DATA)\n",
    "# TODO: Timezone\n",
    "SUBCOOLING = DATA.subcool[TIME]\n",
    "\n",
    "FRAMETIME = diff(video.time.values).mean()\n",
    "\n",
    "print(\n",
    "    f\"Rate = {1e3*FRAMETIME:.2f} ms\",\n",
    "    f\"Scale = {PX_PER_MM:.2f} px/mm\",\n",
    "    f\"Subcool = {SUBCOOLING:.2f} K\",\n",
    "    sep=\"\\n\",\n",
    ")"
   ]
  },
  {
   "cell_type": "code",
   "execution_count": null,
   "metadata": {},
   "outputs": [],
   "source": [
    "source_ds = get_dataset(PATH_TIME, stage=\"filled\")\n",
    "contours = (\n",
    "    DataFrame(columns=[\"xpx\", \"ypx\"])\n",
    "    .assign(**get_contours_df(PATH_TIME))\n",
    "    .rename(axis=\"columns\", mapper=dict(xpx=\"x\", ypx=\"y\"))\n",
    "    .reset_index()\n",
    "    .assign(\n",
    "        count=lambda df: df.groupby([\"frame\", \"contour\"], **GBC).x.transform(\"count\")\n",
    "    )\n",
    "    .query(\"count > 3\")\n",
    "    .drop(columns=\"count\")\n",
    "    .assign(geometry=lambda df: points_from_xy(df.x, df.y))\n",
    "    .groupby([\"frame\", \"contour\"], **GBC)  # type: ignore  # pyright 1.1.333\n",
    "    .agg(\n",
    "        x=NamedAgg(column=\"x\", aggfunc=\"mean\"),\n",
    "        y=NamedAgg(column=\"x\", aggfunc=\"mean\"),\n",
    "        centroid=NamedAgg(\n",
    "            column=\"geometry\", aggfunc=lambda df: LinearRing(df).centroid\n",
    "        ),\n",
    "    )\n",
    ")\n",
    "contours"
   ]
  },
  {
   "cell_type": "code",
   "execution_count": null,
   "metadata": {},
   "outputs": [],
   "source": [
    "centers = (\n",
    "    GeoDataFrame(contours)\n",
    "    # .assign(x=lambda df: df.centroid.x, y=lambda df: df.centroid.y)\n",
    "    .loc[:, [\"frame\", \"contour\", \"x\", \"y\"]]\n",
    ")\n",
    "centers"
   ]
  }
 ],
 "metadata": {
  "kernelspec": {
   "display_name": ".venv",
   "language": "python",
   "name": "python3"
  },
  "language_info": {
   "codemirror_mode": {
    "name": "ipython",
    "version": 3
   },
   "file_extension": ".py",
   "mimetype": "text/x-python",
   "name": "python",
   "nbconvert_exporter": "python",
   "pygments_lexer": "ipython3"
  }
 },
 "nbformat": 4,
 "nbformat_minor": 2
}
