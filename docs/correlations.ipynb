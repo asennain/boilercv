{
 "cells": [
  {
   "attachments": {},
   "cell_type": "markdown",
   "metadata": {},
   "source": [
    "# Correlations\n",
    "\n",
    "One correlation for bubble history of direct contact condensation of vapor bubbles in a subcooled liquid such considers a stagnant bubble in liquid dominated by heat transfer, which can be represented as\n",
    "\n",
    "```{math}\n",
    "\\beta = 1 - 4Ja\\sqrt\\frac{Fo_0}{\\pi}\n",
    "```\n",
    "\n",
    "where {math}`\\beta` is the dimensionless bubble diameter {math}`D/D_0` with {math}`D_0` being the initial bubble diameter, {math}`Ja` is the Jakob number {math}`\\rho_l c_{pl}\\Delta T_{sub}/\\rho_v h_{fg}` , and {math}`Fo_0` is the Fourier number {math}`\\alpha t/D_{b0}^2` .{footcite}`tangReviewDirectContact2022`{footcite}`florschuetzMechanicsVaporBubble1965`\n"
   ]
  },
  {
   "cell_type": "code",
   "execution_count": null,
   "metadata": {
    "tags": [
     "remove-cell"
    ]
   },
   "outputs": [],
   "source": [
    "import warnings\n",
    "\n",
    "import numpy as np\n",
    "import pandas as pd\n",
    "import seaborn as sns\n",
    "from matplotlib import pyplot as plt\n",
    "\n",
    "from boilercv.correlations import (\n",
    "    dimensionless_bubble_diameter_florschuetz_chao_1965,\n",
    "    fourier,\n",
    "    jakob,\n",
    ")\n",
    "from boilercv.format import set_format\n",
    "from boilercv.models.params import PARAMS\n",
    "\n",
    "set_format()\n",
    "_ = display()\n",
    "# This warning fires unnecessarily when Seaborn or Pandas plots are placed in existing\n",
    "# axes. This warning can't be caught in context of `warnings.catch_warnings()` because\n",
    "# it fires *after* a cell finishes executing. So we have to disable this globally.\n",
    "warnings.filterwarnings(\n",
    "    category=UserWarning,\n",
    "    action=\"ignore\",\n",
    "    message=\"This figure includes Axes that are not compatible with\",\n",
    ")\n",
    "sns.set_theme(\n",
    "    context=\"notebook\",\n",
    "    style=\"whitegrid\",\n",
    "    palette=\"bright\",\n",
    "    font=\"sans-serif\",\n",
    ")\n",
    "plt.style.use(style=PARAMS.project_paths.mpl_base)"
   ]
  },
  {
   "cell_type": "code",
   "execution_count": null,
   "metadata": {},
   "outputs": [],
   "source": [
    "time = \"Time (s)\"\n",
    "dimensionless_bubble_diameter = \"Dimensionless bubble diameter (m/m)\"\n",
    "\n",
    "sns.lineplot(\n",
    "    data=(\n",
    "        pd.DataFrame({time: np.logspace(-6, -2) / 5})\n",
    "        .set_index(time)\n",
    "        .assign(\n",
    "            **{\n",
    "                dimensionless_bubble_diameter: lambda df: dimensionless_bubble_diameter_florschuetz_chao_1965(\n",
    "                    jakob(\n",
    "                        liquid_density=1000,  # kg/m^3\n",
    "                        vapor_density=0.804,  # kg/m^3\n",
    "                        liquid_specific_heat=4180,  # J/kg-K\n",
    "                        subcooling=2,  # K\n",
    "                        latent_heat_of_vaporization=2.23e6,  # J/kg\n",
    "                    ),\n",
    "                    fourier(\n",
    "                        thermal_diffusivity=1.43e-7,  # m^2/s\n",
    "                        time=df.index,  # s\n",
    "                        initial_bubble_diameter=0.001,  # m\n",
    "                    ),\n",
    "                )\n",
    "            }\n",
    "        )\n",
    "    ),\n",
    "    x=time,\n",
    "    y=dimensionless_bubble_diameter,\n",
    ").set_title(\"Dimensionless bubble diameter Florschuetz and Chao (1965)\")\n",
    "\n",
    "_"
   ]
  },
  {
   "attachments": {},
   "cell_type": "markdown",
   "metadata": {},
   "source": [
    "## References\n",
    "\n",
    "```{footbibliography}\n",
    "\n",
    "```\n"
   ]
  }
 ],
 "metadata": {
  "kernelspec": {
   "display_name": ".venv",
   "language": "python",
   "name": "python3"
  },
  "language_info": {
   "codemirror_mode": {
    "name": "ipython",
    "version": 3
   },
   "file_extension": ".py",
   "mimetype": "text/x-python",
   "name": "python",
   "nbconvert_exporter": "python",
   "pygments_lexer": "ipython3"
  }
 },
 "nbformat": 4,
 "nbformat_minor": 2
}
