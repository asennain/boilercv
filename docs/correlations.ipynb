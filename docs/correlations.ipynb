{
 "cells": [
  {
   "cell_type": "code",
   "execution_count": null,
   "metadata": {
    "tags": [
     "remove-cell"
    ]
   },
   "outputs": [],
   "source": [
    "from patch import patch, unpatch\n",
    "\n",
    "tmp_proj = patch()"
   ]
  },
  {
   "attachments": {},
   "cell_type": "markdown",
   "metadata": {},
   "source": [
    "# Correlations\n",
    "\n",
    "One correlation for bubble history of direct contact condensation of vapor bubbles in a subcooled liquid such considers a stagnant bubble in liquid dominated by heat transfer, which can be represented as\n",
    "\n",
    "```{math}\n",
    "\\beta = 1 - 4Ja\\sqrt\\frac{Fo_0}{\\pi}\n",
    "```\n",
    "\n",
    "where {math}`\\beta` is the dimensionless bubble diameter {math}`D/D_0` with {math}`D_0` being the initial bubble diameter, {math}`Ja` is the Jakob number {math}`\\rho_l c_{pl}\\Delta T_{sub}/\\rho_v h_{fg}` , and {math}`Fo_0` is the Fourier number {math}`\\alpha t/D_{b0}^2` .{footcite}`tangReviewDirectContact2022`{footcite}`florschuetzMechanicsVaporBubble1965`\n"
   ]
  },
  {
   "cell_type": "code",
   "execution_count": null,
   "metadata": {
    "tags": [
     "remove-cell"
    ]
   },
   "outputs": [],
   "source": [
    "import warnings\n",
    "\n",
    "import numpy as np\n",
    "import pandas as pd\n",
    "import seaborn as sns\n",
    "from matplotlib import pyplot as plt\n",
    "from myst_nb import glue\n",
    "\n",
    "from boilercv.correlations import (\n",
    "    dimensionless_bubble_diameter_florschuetz_chao_1965,\n",
    "    dimensionless_bubble_diameter_inaba,\n",
    "    dimensionless_bubble_diameter_yuan,\n",
    "    fourier,\n",
    "    jakob,\n",
    "    kinematic_viscosity,\n",
    "    prandtl,\n",
    "    reynolds,\n",
    ")\n",
    "from boilercv.format import set_format\n",
    "from boilercv.models.params import PARAMS\n",
    "\n",
    "set_format()\n",
    "_ = display()\n",
    "# This warning fires unnecessarily when Seaborn or Pandas plots are placed in existing\n",
    "# axes. This warning can't be caught in context of `warnings.catch_warnings()` because\n",
    "# it fires *after* a cell finishes executing. So we have to disable this globally.\n",
    "warnings.filterwarnings(\n",
    "    category=UserWarning,\n",
    "    action=\"ignore\",\n",
    "    message=\"This figure includes Axes that are not compatible with\",\n",
    ")\n",
    "sns.set_theme(\n",
    "    context=\"notebook\",\n",
    "    style=\"whitegrid\",\n",
    "    palette=\"bright\",\n",
    "    font=\"sans-serif\",\n",
    ")\n",
    "plt.style.use(style=PARAMS.project_paths.mpl_base)"
   ]
  },
  {
   "cell_type": "code",
   "execution_count": null,
   "metadata": {
    "tags": [
     "remove-output"
    ]
   },
   "outputs": [],
   "source": [
    "from boilercv.correlations import thermal_diffusivity\n",
    "\n",
    "time = np.logspace(-6, 0) / 8  # s\n",
    "bubble_initial_diameter = 1e-3  # m\n",
    "bubble_initial_velocity = 0.7e-2  # m/s\n",
    "subcooling = 2  # K\n",
    "\n",
    "latent_heat_of_vaporization = 2.23e6  # J/kg\n",
    "liquid_density = 960  # kg/m^3\n",
    "liquid_dynamic_viscosity = 2.88e-4  # Pa-s\n",
    "liquid_isobaric_specific_heat = 4213  # J/kg-K\n",
    "liquid_thermal_conductivity = 0.676  # W/m-K\n",
    "vapor_density = 0.804  # kg/m^3\n",
    "\n",
    "liquid_kinematic_viscosity = kinematic_viscosity(\n",
    "    density=liquid_density, dynamic_viscosity=liquid_dynamic_viscosity\n",
    ")\n",
    "liquid_thermal_diffusivity = thermal_diffusivity(\n",
    "    thermal_conductivity=liquid_thermal_conductivity,\n",
    "    density=liquid_density,\n",
    "    isobaric_specific_heat=liquid_isobaric_specific_heat,\n",
    ")\n",
    "\n",
    "bubble_initial_reynolds = reynolds(\n",
    "    velocity=bubble_initial_velocity,\n",
    "    characteristic_length=bubble_initial_diameter,\n",
    "    kinematic_viscosity=liquid_kinematic_viscosity,\n",
    ")\n",
    "liquid_prandtl = prandtl(\n",
    "    dynamic_viscosity=liquid_dynamic_viscosity,\n",
    "    isobaric_specific_heat=liquid_isobaric_specific_heat,\n",
    "    thermal_conductivity=liquid_thermal_conductivity,\n",
    ")\n",
    "bubble_jakob = jakob(\n",
    "    liquid_density=liquid_density,\n",
    "    vapor_density=vapor_density,\n",
    "    liquid_isobaric_specific_heat=liquid_isobaric_specific_heat,\n",
    "    subcooling=subcooling,\n",
    "    latent_heat_of_vaporization=latent_heat_of_vaporization,\n",
    ")\n",
    "bubble_fourier = fourier(\n",
    "    liquid_thermal_diffusivity=liquid_thermal_diffusivity,\n",
    "    initial_bubble_diameter=bubble_initial_diameter,\n",
    "    time=time,\n",
    ")\n",
    "\n",
    "fig, ax = plt.subplots()\n",
    "ax.set_xlabel(\"Time (s)\")\n",
    "ax.set_ylabel(\"Dimensionless bubble diameter (m/m)\")\n",
    "sns.lineplot(\n",
    "    ax=ax,\n",
    "    data=(\n",
    "        pd.DataFrame(index=time).assign(\n",
    "            **{\n",
    "                \"Florshuetz and Chao (1965)\": dimensionless_bubble_diameter_florschuetz_chao_1965(\n",
    "                    jakob=bubble_jakob, fourier=bubble_fourier\n",
    "                ),\n",
    "                \"Yuan et al. (2009)\": dimensionless_bubble_diameter_yuan(\n",
    "                    bubble_initial_reynolds=bubble_initial_reynolds,\n",
    "                    liquid_prandtl=liquid_prandtl,\n",
    "                    bubble_jakob=bubble_jakob,\n",
    "                    bubble_fourier=bubble_fourier,\n",
    "                ),\n",
    "                \"Inaba et al. (2013)\": dimensionless_bubble_diameter_inaba(\n",
    "                    bubble_initial_reynolds=bubble_initial_reynolds,\n",
    "                    liquid_prandtl=liquid_prandtl,\n",
    "                    bubble_jakob=bubble_jakob,\n",
    "                    bubble_fourier=bubble_fourier,\n",
    "                ),\n",
    "            }\n",
    "        )\n",
    "    ),\n",
    ")\n",
    "glue(\"dimensionless-bubble-diameter\", fig, display=False)\n"
   ]
  },
  {
   "attachments": {},
   "cell_type": "markdown",
   "metadata": {},
   "source": [
    "```{glue:figure} dimensionless-bubble-diameter\n",
    "Dimensionless bubble diameter\n",
    "```\n"
   ]
  },
  {
   "attachments": {},
   "cell_type": "markdown",
   "metadata": {},
   "source": [
    "## References\n",
    "\n",
    "```{footbibliography}\n",
    "\n",
    "```\n"
   ]
  },
  {
   "cell_type": "code",
   "execution_count": null,
   "metadata": {
    "tags": [
     "remove-cell"
    ]
   },
   "outputs": [],
   "source": [
    "unpatch(tmp_proj)"
   ]
  }
 ],
 "metadata": {
  "kernelspec": {
   "display_name": ".venv",
   "language": "python",
   "name": "python3"
  },
  "language_info": {
   "codemirror_mode": {
    "name": "ipython",
    "version": 3
   },
   "file_extension": ".py",
   "mimetype": "text/x-python",
   "name": "python",
   "nbconvert_exporter": "python",
   "pygments_lexer": "ipython3"
  }
 },
 "nbformat": 4,
 "nbformat_minor": 2
}
