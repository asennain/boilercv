{
 "cells": [
  {
   "attachments": {},
   "cell_type": "markdown",
   "metadata": {},
   "source": [
    "# Find tracks\n",
    "\n",
    "Compare experimental bubble histories to bubble history correlations. Bubble detection and linking performed by Trackpy, an implementation of the Crocker-Grier algorithm [@allanTrackpy2018; @crockerMethodsDigitalVideo1996].\n"
   ]
  },
  {
   "cell_type": "code",
   "execution_count": null,
   "metadata": {
    "tags": [
     "hide-input"
    ]
   },
   "outputs": [],
   "source": [
    "from boilercv.docs.nbs import init\n",
    "\n",
    "init()\n",
    "\n",
    "from colorcet import colormaps\n",
    "from matplotlib.figure import Figure\n",
    "from matplotlib.patches import Rectangle\n",
    "from matplotlib.pyplot import subplot_mosaic, subplots\n",
    "from numpy import diff, log10, logspace\n",
    "from pandas import DataFrame, read_hdf\n",
    "from seaborn import lineplot, move_legend, scatterplot\n",
    "\n",
    "from boilercv.correlations import (\n",
    "    dimensionless_bubble_diameter_florschuetz,\n",
    "    dimensionless_bubble_diameter_tang,\n",
    "    dimensionless_bubble_diameter_yuan,\n",
    "    jakob,\n",
    "    kinematic_viscosity,\n",
    "    prandtl,\n",
    "    reynolds,\n",
    ")\n",
    "from boilercv.data.sets import get_dataset\n",
    "from boilercv.docs.nbs import HIDE, display_dataframe_with_math, nowarn, style_df\n",
    "from boilercv.experiments.e230920_subcool import (\n",
    "    GBC,\n",
    "    M_TO_MM,\n",
    "    THERMAL_DATA,\n",
    "    TRACKS,\n",
    "    Col,\n",
    "    get_cat_colorbar,\n",
    "    get_first_from_palette,\n",
    "    plot_composite_da,\n",
    "    transform_cols,\n",
    ")\n",
    "from boilercv.images import scale_bool\n",
    "\n",
    "TIME = \"2023-09-20T17:14:18\"\n",
    "\"\"\"Timestamp of the trial to be analyzed.\"\"\"\n",
    "\n",
    "# Plotting\n",
    "FIGURES: list[Figure] = []\n",
    "\"\"\"Notebook figures available for export.\"\"\"\n",
    "WARM_PALETTE = colormaps[\"cet_glasbey_warm\"]\n",
    "\"\"\"For plotting one approach.\"\"\"\n",
    "COOL_PALETTE = colormaps[\"cet_glasbey_cool\"]\n",
    "\"\"\"For plotting the other approach.\"\"\"\n",
    "PLOT_SUBCOOLING_TEXT = False\n",
    "\"\"\"Whether to plot subcooling text on the final plot.\"\"\"\n",
    "PLOT_PRIOR_BOUNDS = False\n",
    "\"\"\"Whether to plot the prior approach bounds on the final plot.\"\"\"\n",
    "\n",
    "# Track tuning\n",
    "SEARCH_RANGE = 30\n",
    "\"\"\"Pixel range to search for the next bubble.\"\"\"\n",
    "MEMORY = 5\n",
    "\"\"\"Frames to remember a bubble.\"\"\"\n",
    "YPX_SURFACE_THRESHOLD = 400\n",
    "\"\"\"Vertical position of bubble centroids considered attached to the surface.\"\"\"\n",
    "YPX_DEPARTURE_THRESHOLD = 420\n",
    "\"\"\"Vertical position of bubble centroids considered to have departed the surface.\"\"\"\n",
    "MINIMUM_LIFETIME = 0.010  # (s)\n",
    "\"\"\"Minimum bubble lifetime to consider.\"\"\"\n",
    "\n",
    "# Physical parameters\n",
    "PX_PER_M = 20997.3753\n",
    "LATENT_HEAT_OF_VAPORIZATION = 2.23e6  # J/kg\n",
    "LIQUID_DENSITY = 960  # kg/m^3\n",
    "LIQUID_DYNAMIC_VISCOSITY = 2.88e-4  # Pa-s\n",
    "LIQUID_ISOBARIC_SPECIFIC_HEAT = 4213  # J/kg-K\n",
    "LIQUID_THERMAL_CONDUCTIVITY = 0.676  # W/m-K\n",
    "VAPOR_DENSITY = 0.804  # kg/m^3\n",
    "\n",
    "HIDE"
   ]
  },
  {
   "cell_type": "code",
   "execution_count": null,
   "metadata": {
    "tags": [
     "hide-input"
    ]
   },
   "outputs": [],
   "source": [
    "path_time = TIME.replace(\":\", \"-\")\n",
    "video = scale_bool(get_dataset(path_time, stage=\"filled\")[\"video\"])\n",
    "frametime = diff(video.time.values).mean()\n",
    "tracks: DataFrame = read_hdf((TRACKS / f\"tracks_{path_time}\").with_suffix(\".h5\"))  # type: ignore\n",
    "subcooling = read_hdf(THERMAL_DATA).subcool[TIME]\n",
    "minimum_frame_lifetime = int(MINIMUM_LIFETIME // frametime)\n",
    "\n",
    "HIDE"
   ]
  },
  {
   "cell_type": "markdown",
   "metadata": {},
   "source": [
    "## Find bubbles in each frame and link them\n",
    "\n",
    "Detect individual bubbles in each frame, and then link detections across frames by application of the Crocker-Grier tracking algorithm, which takes into account centroid proximity and expected positions [@crockerMethodsDigitalVideo1996].\n",
    "\n",
    "Initial and lifetime characteristics of long-lived bubbles are shown in **Table&NonBreakingSpace;1**. All bubbles departing the surface have an initial depth, $y$, close to the actual boiling surface, and a bimodal distribution in initial $x$, close to active nucleation sites. This information is used to determine surface and departure $y$ thresholds for alignment of bubble departures.\n"
   ]
  },
  {
   "cell_type": "code",
   "execution_count": null,
   "metadata": {
    "tags": [
     "hide-input"
    ]
   },
   "outputs": [],
   "source": [
    "with style_df(\n",
    "    tracks.groupby(\"bubble\", **GBC)\n",
    "    .head(1)\n",
    "    .set_index(\"bubble\")\n",
    "    .query(f\"frame_lifetime > {minimum_frame_lifetime}\")\n",
    "    .head(16)\n",
    "    .pipe(\n",
    "        transform_cols,\n",
    "        cols=[\n",
    "            Col(\"lifetime\", \"Lifetime\", \"s\"),\n",
    "            Col(\"time\", r\"$t_0$\", \"s\"),\n",
    "            Col(\"diameter\", r\"$d_{b0}$\", **M_TO_MM),\n",
    "            Col(\"y\", r\"$y_{b0}$\", **M_TO_MM),\n",
    "            Col(\"x\", r\"$x_{b0}$\", **M_TO_MM),\n",
    "        ],\n",
    "    )\n",
    ") as style:\n",
    "    display_dataframe_with_math(style.background_gradient())"
   ]
  },
  {
   "cell_type": "markdown",
   "metadata": {},
   "source": [
    "```{glue:figure} foo\n",
    ":alt: \"Alternative title\"\n",
    ":figwidth: 300px\n",
    ":name: \"fig-boot\"\n",
    "\n",
    "Bar.\n",
    "```\n"
   ]
  },
  {
   "cell_type": "markdown",
   "metadata": {},
   "source": [
    "**Table&NonBreakingSpace;1**: Selected properties of long-lived bubbles\n",
    "Bubbles are identified by a unique particle number. Their lifetime, the time of their first appearance, their initial diameter and elevation, and lifetime histograms of selected characteristics are shown.\n"
   ]
  },
  {
   "cell_type": "markdown",
   "metadata": {},
   "source": [
    "## History of long-lived bubbles\n",
    "\n",
    "The paths taken by long-lived bubbles are shown in **Figure&NonBreakingSpace;2**. Two active nucleation sites are responsible for all bubbles produced, and bubbles departing from each nucleation site take one of a few predominant paths during the short period of observation.\n"
   ]
  },
  {
   "cell_type": "code",
   "execution_count": null,
   "metadata": {
    "tags": [
     "hide-input"
    ]
   },
   "outputs": [],
   "source": [
    "figure, ax = subplots()\n",
    "FIGURES.append(figure)\n",
    "plot_composite_da(video, ax)\n",
    "palette, data = get_cat_colorbar(\n",
    "    ax,\n",
    "    palette=COOL_PALETTE,\n",
    "    data=tracks.pipe(\n",
    "        transform_cols,\n",
    "        [\n",
    "            hue := Col(\"bubble\", \"Individual bubble\"),\n",
    "            x := Col(\"xpx\", \"x\", \"px\"),\n",
    "            y := Col(\"ypx\", \"y\", \"px\"),\n",
    "        ],\n",
    "    ),\n",
    "    col=hue.new,\n",
    ")\n",
    "scatterplot(\n",
    "    ax=ax,\n",
    "    edgecolor=\"none\",\n",
    "    s=10,\n",
    "    x=x.new,\n",
    "    y=y.new,\n",
    "    hue=hue.new,\n",
    "    legend=False,  # type: ignore  # pyright 1.1.333\n",
    "    palette=palette,\n",
    "    data=data,\n",
    ")\n",
    "\n",
    "if PLOT_PRIOR_BOUNDS:\n",
    "    ax.add_patch(\n",
    "        Rectangle(\n",
    "            xy=(130, 240),\n",
    "            width=(250 - 130),\n",
    "            height=(460 - 240),\n",
    "            edgecolor=\"blue\",\n",
    "            facecolor=\"none\",\n",
    "            linewidth=2,\n",
    "        )\n",
    "    )\n",
    "\n",
    "HIDE"
   ]
  },
  {
   "cell_type": "markdown",
   "metadata": {},
   "source": [
    "**Figure&NonBreakingSpace;1**: Long-lived bubble tracks  \n",
    "Bubble tracks indicated by the positions of detected centroids over time.\n",
    "\n",
    "## Aligning bubble departures\n",
    "\n",
    "Exclude bubbles that did not originate from the boiling surface, or that had already departed the surface at the time of recording. Consider a bubble to have departed the surface when its centroid crosses a departure threshold which is about one average bubble diameter above the boiling surface. Define the origin for time of departure for each bubble in this fashion. The resulting time history in **Figure&NonBreakingSpace;2** shows bubble depth, velocity, and diameter for the remainder of its visible lifetime.\n",
    "\n",
    "Most bubbles rise and collapse at similar rates. Two bubbles rise slower than the rest, but seem to collapse at about the same rate as others.\n"
   ]
  },
  {
   "cell_type": "code",
   "execution_count": null,
   "metadata": {
    "tags": [
     "hide-input"
    ]
   },
   "outputs": [],
   "source": [
    "cols = [\n",
    "    hue := Col(\"bubble\", \"Individual bubble\"),\n",
    "    x := Col(\"time\", \"Time after departure\", \"s\"),\n",
    "    y := Col(\"y\", \"Depth\", **M_TO_MM),\n",
    "    v := Col(\"dy\", \"Velocity\", \"m/s\", \"mm/s\"),\n",
    "    d := Col(\"diameter\", \"Diameter\", **M_TO_MM),\n",
    "]\n",
    "figure, axs = subplot_mosaic([[y.new], [v.new], [d.new]])\n",
    "FIGURES.append(figure)\n",
    "figure.set_size_inches(6, 10)\n",
    "for plot, ax in axs.items():\n",
    "    palette, data = get_cat_colorbar(\n",
    "        ax, hue.new, COOL_PALETTE, tracks.pipe(transform_cols, cols)\n",
    "    )\n",
    "    scatterplot(\n",
    "        ax=ax,\n",
    "        edgecolor=\"none\",\n",
    "        s=10,\n",
    "        alpha=0.4,\n",
    "        x=x.new,\n",
    "        y=plot,\n",
    "        hue=hue.new,\n",
    "        legend=False,  # type: ignore  # pyright 1.1.333\n",
    "        palette=palette,\n",
    "        data=data,\n",
    "    )"
   ]
  },
  {
   "cell_type": "code",
   "execution_count": null,
   "metadata": {
    "tags": [
     "hide-input"
    ]
   },
   "outputs": [],
   "source": [
    "figure, ax = subplots()\n",
    "FIGURES.append(figure)\n",
    "(\n",
    "    tracks.pipe(\n",
    "        transform_cols,\n",
    "        [\n",
    "            Col(\"bubble\"),\n",
    "            Col(\"lifetime\", \"Lifetime\", \"s\"),\n",
    "            Col(\"max_diameter\", r\"$d_{max}$\", **M_TO_MM),\n",
    "            Col(\"init_diameter\", r\"$d_{b0}$\", **M_TO_MM),\n",
    "            Col(\"yinit\", r\"$y_{b0}$\", **M_TO_MM),\n",
    "            Col(\"xinit\", r\"$x_{b0}$\", **M_TO_MM),\n",
    "            Col(\"dyinit\", r\"$v_{y0}$\", old_unit=\"m/s\", new_unit=\"mm/s\", scale=1000),\n",
    "        ],\n",
    "    )\n",
    "    .groupby(\"bubble\", **GBC)\n",
    "    .mean()\n",
    "    .set_index(\"bubble\")\n",
    "    .hist(ax=ax)\n",
    ")\n",
    "\n",
    "HIDE"
   ]
  },
  {
   "cell_type": "markdown",
   "metadata": {},
   "source": [
    "**Figure&NonBreakingSpace;3**: Histograms of individual bubble statistics  \n",
    "Shows bubble lifetime, maximum diameter, and bubble properties at departure.\n"
   ]
  },
  {
   "cell_type": "markdown",
   "metadata": {},
   "source": [
    "# Correlations\n",
    "\n",
    "One correlation for bubble history of direct contact condensation of vapor bubbles in a subcooled liquid such considers a stagnant bubble in liquid dominated by heat transfer, which can be represented as\n",
    "\n",
    "$$\n",
    "\\beta = 1 - 4{Ja}\\sqrt\\frac{{Fo}_0}{\\pi}\n",
    "$$\n",
    "\n",
    "where $\\beta$ is the dimensionless bubble diameter $D/D_0$ with $D_0$ being the initial bubble diameter, ${Ja}$ is the Jakob number $\\rho_l c_{pl}\\Delta T_{sub}/\\rho_v h_{fg}$ , and ${Fo}_0$ is the Fourier number $\\alpha t/D_{b0}^2$ [@tangReviewDirectContact2022; @florschuetzMechanicsVaporBubble1965]. This correlation was derived from analysis of the physical phenomena, and does not incorporate a fit to experimental data.\n",
    "\n",
    "A later correlation, one which does incoprorate a fit to experimental data, is\n",
    "\n",
    "$$\n",
    "\\beta = \\left(1-1.8{Re}_{b0}^{1/2}Pr^{1/3}{Ja}{Fo}_0\\left(1-\\frac{{Ja}^{1/10}{Fo}_0}{2}\\right)\\right)^{2/3}\n",
    "$$\n",
    "\n",
    "where ${Re}_{b0}$ and ${Pr}$ are the bubble Reynolds and liquid Prandtl numbers, respectively [@tangReviewDirectContact2022; @yuandewenCondensationHeatTransfer2009]. Experimental bubble data is nondimensionalized by initial bubble diameter, and correlations are plotted against experimental data in **Figure&NonBreakingSpace;5**. Correlations are plotted for the average initial bubble diameter and velocity of the population of bubbles studied.\n",
    "\n",
    "Bubble histories seem to correspond roughly with the analytical model by Florschuetz and Chao initially, with later times corresponding to the Yuan et al. model. The present bubble data shows about 0.5&NonBreakingSpace;K subcooling. Since correlations are sensitive to subcool temperature, this motivates the collection of bubble data over a wider range of subcooling.\n"
   ]
  },
  {
   "cell_type": "code",
   "execution_count": null,
   "metadata": {
    "tags": [
     "hide-input"
    ]
   },
   "outputs": [],
   "source": [
    "object_averages = tracks.set_index(\"bubble\").groupby(\"bubble\", **GBC).mean().mean()\n",
    "liquid_kinematic_viscosity = kinematic_viscosity(\n",
    "    density=LIQUID_DENSITY, dynamic_viscosity=LIQUID_DYNAMIC_VISCOSITY\n",
    ")\n",
    "bubble_initial_reynolds = reynolds(\n",
    "    velocity=abs(object_averages[\"dyinit\"]),\n",
    "    characteristic_length=object_averages[\"init_diameter\"],\n",
    "    kinematic_viscosity=liquid_kinematic_viscosity,\n",
    ")\n",
    "liquid_prandtl = prandtl(\n",
    "    dynamic_viscosity=LIQUID_DYNAMIC_VISCOSITY,\n",
    "    isobaric_specific_heat=LIQUID_ISOBARIC_SPECIFIC_HEAT,\n",
    "    thermal_conductivity=LIQUID_THERMAL_CONDUCTIVITY,\n",
    ")\n",
    "bubble_jakob = jakob(\n",
    "    liquid_density=LIQUID_DENSITY,\n",
    "    vapor_density=VAPOR_DENSITY,\n",
    "    liquid_isobaric_specific_heat=LIQUID_ISOBARIC_SPECIFIC_HEAT,\n",
    "    subcooling=subcooling,\n",
    "    latent_heat_of_vaporization=LATENT_HEAT_OF_VAPORIZATION,\n",
    ")\n",
    "bubble_fourier_smooth = logspace(\n",
    "    stop=(max_fourier := log10(tracks[\"fourier\"].max())),\n",
    "    start=max_fourier - 4,\n",
    "    num=int(1e4),\n",
    ")\n",
    "figure, ax = subplots()\n",
    "FIGURES.append(figure)\n",
    "ax.set_xlim(0, 0.05)\n",
    "ax.set_ylim(0, 1.05)\n",
    "ax.plot(label=f\"{subcooling:.2f} K\")\n",
    "lineplot(\n",
    "    ax=ax,\n",
    "    data=(\n",
    "        data := DataFrame(index=bubble_fourier_smooth)\n",
    "        .assign(  # type: ignore  # pyright 1.1.333\n",
    "            **{\n",
    "                f\"{subcooling:.2f} K subcooling\": None,\n",
    "                \"G1, Florshuetz and Chao (1965)\": dimensionless_bubble_diameter_florschuetz(\n",
    "                    jakob=bubble_jakob, fourier=bubble_fourier_smooth\n",
    "                ),\n",
    "                \"G3, Tang et al. (2016)\": dimensionless_bubble_diameter_tang(\n",
    "                    bubble_initial_reynolds=bubble_initial_reynolds,\n",
    "                    liquid_prandtl=liquid_prandtl,\n",
    "                    bubble_jakob=bubble_jakob,\n",
    "                    bubble_fourier=bubble_fourier_smooth,\n",
    "                ),\n",
    "                \"G4, Yuan et al. (2009)\": dimensionless_bubble_diameter_yuan(\n",
    "                    bubble_initial_reynolds=bubble_initial_reynolds,\n",
    "                    liquid_prandtl=liquid_prandtl,\n",
    "                    bubble_jakob=bubble_jakob,\n",
    "                    bubble_fourier=bubble_fourier_smooth,\n",
    "                ),\n",
    "            }\n",
    "        )\n",
    "        .where(lambda s: s > 0.0)\n",
    "    ),\n",
    "    palette=[\n",
    "        (0, 0, 0, 0),\n",
    "        *get_first_from_palette(WARM_PALETTE, len(data.columns) - 1).colors,  # type: ignore  # pyright 1.1.333\n",
    "    ],\n",
    ")\n",
    "with nowarn():\n",
    "    move_legend(ax, \"lower center\", bbox_to_anchor=(0.5, 1))\n",
    "ax.get_legend().get_texts()[0].set_weight(\"bold\")\n",
    "palette, data = get_cat_colorbar(\n",
    "    ax,\n",
    "    palette=COOL_PALETTE,\n",
    "    data=nondimensionalized_departing_long_lived_tracks.pipe(\n",
    "        transform_cols,\n",
    "        [\n",
    "            hue := Col(\"bubble\", \"Individual bubble\"),\n",
    "            x := Col(\"Bubble Fourier number\"),\n",
    "            y := Col(\"Dimensionless bubble diameter\"),\n",
    "        ],\n",
    "    ),\n",
    "    col=hue.new,\n",
    ")\n",
    "scatterplot(\n",
    "    ax=ax,\n",
    "    s=10,\n",
    "    alpha=0.4,\n",
    "    x=x.new,\n",
    "    y=y.new,\n",
    "    hue=hue.new,\n",
    "    palette=palette,\n",
    "    legend=False,  # type: ignore  # pyright 1.1.333\n",
    "    data=data,\n",
    ")\n",
    "if PLOT_PRIOR_BOUNDS:\n",
    "    ax.add_patch(\n",
    "        Rectangle(\n",
    "            xy=(0.0002, 0.2),\n",
    "            width=0.003,\n",
    "            height=(1 - 0.2),\n",
    "            edgecolor=\"blue\",\n",
    "            facecolor=\"none\",\n",
    "            linewidth=2,\n",
    "        )\n",
    "    )\n",
    "\n",
    "HIDE"
   ]
  },
  {
   "cell_type": "markdown",
   "metadata": {},
   "source": [
    "**Figure&NonBreakingSpace;5**: Comparison of bubble histories to correlations\n",
    "\n",
    "Two correlations are shown. The early bubble history follows that of the analytical correlation by Florshuetz and Chao (1965), while the late bubble history follows that of Yuan et al (2009).\n"
   ]
  }
 ],
 "metadata": {
  "kernelspec": {
   "display_name": "Python 3 (ipykernel)",
   "language": "python",
   "name": "python3"
  },
  "language_info": {
   "codemirror_mode": {
    "name": "ipython",
    "version": 3
   },
   "file_extension": ".py",
   "mimetype": "text/x-python",
   "name": "python",
   "nbconvert_exporter": "python",
   "pygments_lexer": "ipython3",
   "version": "3.11.7"
  },
  "papermill": {
   "parameters": {
    "product": "C:/Users/Blake/Code/mine/boilercv/data/docs/study_the_fit_of_bubble_collapse_correlations/prove_the_concept/23-07-13T14_full_video.ipynb"
   }
  }
 },
 "nbformat": 4,
 "nbformat_minor": 2
}
